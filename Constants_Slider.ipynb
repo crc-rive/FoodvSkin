{
 "metadata": {
  "name": "",
  "signature": "sha256:0acf83172f7d7e8038f7b76e7b59a5ae5f7f26267f8d69163a4960e8c5894d18"
 },
 "nbformat": 3,
 "nbformat_minor": 0,
 "worksheets": [
  {
   "cells": [
    {
     "cell_type": "code",
     "collapsed": false,
     "input": [
      "# Import standard libraries\n",
      "from os import chdir\n",
      "from glob import glob"
     ],
     "language": "python",
     "metadata": {},
     "outputs": [],
     "prompt_number": 1
    },
    {
     "cell_type": "code",
     "collapsed": false,
     "input": [
      "# Import common libraries\n",
      "import matplotlib.image as mpimg\n",
      "import matplotlib.pyplot as plt\n",
      "from matplotlib.widgets import Slider, Button\n",
      "import numpy as np\n",
      "%matplotlib"
     ],
     "language": "python",
     "metadata": {},
     "outputs": [
      {
       "output_type": "stream",
       "stream": "stdout",
       "text": [
        "Using matplotlib backend: TkAgg\n"
       ]
      }
     ],
     "prompt_number": 6
    },
    {
     "cell_type": "code",
     "collapsed": false,
     "input": [
      "# Get list of files\n",
      "chdir('/home/tdoughty1/Dropbox/FoodvSkin/')\n",
      "files = glob('*.jpg')"
     ],
     "language": "python",
     "metadata": {},
     "outputs": [],
     "prompt_number": 7
    },
    {
     "cell_type": "code",
     "collapsed": false,
     "input": [
      "# For now select a single file\n",
      "# Convert into alpha, beta and gamma matrices\n",
      "for fName in files[2:3]:\n",
      "    \n",
      "    values = mpimg.imread(fName)\n",
      "    \n",
      "    plt.imshow(values)\n",
      "        \n",
      "    R = values[:,:,0].astype('f')\n",
      "    G = values[:,:,1].astype('f')\n",
      "    B = values[:,:,2].astype('f')\n",
      "    \n",
      "    r = np.divide(R,(R+G+B))\n",
      "    g = np.divide(G,(R+G+B))\n",
      "    b = np.divide(B,(R+G+B))\n",
      "    \n",
      "    alpha = 3*b*r**2/(r+g+b)**3\n",
      "    beta = (r+g+b)/(3*r) + (r-g)/(r+g+b)\n",
      "    gamma = (r*b+g**2)/(g*b) "
     ],
     "language": "python",
     "metadata": {},
     "outputs": [],
     "prompt_number": 8
    },
    {
     "cell_type": "code",
     "collapsed": false,
     "input": [
      "# Create Plot with sliders\n",
      "fig, ax = plt.subplots()\n",
      "plt.subplots_adjust(left=0.25, bottom=0.3)\n",
      "alpha0 = 0.1276\n",
      "beta0 = 0.9498\n",
      "gamma0 = 2.7775\n",
      "ax.imshow((alpha>alpha0)&(beta<=beta0)&(gamma<=gamma0),cmap='gray')\n",
      "\n",
      "axAlpha = plt.axes([0.25, 0.2, 0.65, 0.03])\n",
      "axBeta = plt.axes([0.25, 0.15, 0.65, 0.03])\n",
      "axGamma = plt.axes([0.25, 0.1, 0.65, 0.03])\n",
      "\n",
      "sAlpha = Slider(axAlpha, 'Alpha', 0, 3, valinit=alpha0)\n",
      "sBeta = Slider(axBeta, 'Beta', .8, 1, valinit=beta0)\n",
      "sGamma = Slider(axGamma, 'Gamma', 0, 5, valinit=gamma0)\n",
      "\n",
      "resetax = plt.axes([0.8, 0.025, 0.1, 0.04])\n",
      "button = Button(resetax, 'Reset', hovercolor='0.975')\n",
      "def reset(event):\n",
      "    sAlpha.reset()\n",
      "    sBeta.reset()\n",
      "    sGamma.reset()\n",
      "button.on_clicked(reset)\n",
      "\n",
      "def update(val):\n",
      "    alphaC = sAlpha.val\n",
      "    betaC = sBeta.val\n",
      "    gammaC = sGamma.val\n",
      "    ax.imshow((alpha>alphaC)&(beta<=betaC)&(gamma<=gammaC),cmap='gray')\n",
      "    fig.canvas.draw()\n",
      "sAlpha.on_changed(update)\n",
      "sBeta.on_changed(update)\n",
      "sGamma.on_changed(update)\n",
      "\n",
      "plt.show()"
     ],
     "language": "python",
     "metadata": {},
     "outputs": [],
     "prompt_number": 11
    },
    {
     "cell_type": "code",
     "collapsed": false,
     "input": [
      "test = plt.imshow((alpha>alpha0)&(beta<=beta0)&(gamma<=gamma0),cmap='gray')"
     ],
     "language": "python",
     "metadata": {},
     "outputs": [
      {
       "output_type": "stream",
       "stream": "stderr",
       "text": [
        "-c:1: RuntimeWarning: invalid value encountered in less_equal\n"
       ]
      }
     ],
     "prompt_number": 15
    },
    {
     "cell_type": "code",
     "collapsed": false,
     "input": [
      "type(test)"
     ],
     "language": "python",
     "metadata": {},
     "outputs": [
      {
       "metadata": {},
       "output_type": "pyout",
       "prompt_number": 16,
       "text": [
        "matplotlib.image.AxesImage"
       ]
      }
     ],
     "prompt_number": 16
    },
    {
     "cell_type": "code",
     "collapsed": false,
     "input": [
      "ax"
     ],
     "language": "python",
     "metadata": {},
     "outputs": [
      {
       "metadata": {},
       "output_type": "pyout",
       "prompt_number": 20,
       "text": [
        "<matplotlib.axes.AxesSubplot at 0x5b9b890>"
       ]
      }
     ],
     "prompt_number": 20
    },
    {
     "cell_type": "code",
     "collapsed": false,
     "input": [
      "ax1.draw?"
     ],
     "language": "python",
     "metadata": {},
     "outputs": [],
     "prompt_number": 22
    },
    {
     "cell_type": "code",
     "collapsed": false,
     "input": [
      "ax1"
     ],
     "language": "python",
     "metadata": {},
     "outputs": [
      {
       "metadata": {},
       "output_type": "pyout",
       "prompt_number": 19,
       "text": [
        "<matplotlib.image.AxesImage at 0x5b73fd0>"
       ]
      }
     ],
     "prompt_number": 19
    },
    {
     "cell_type": "code",
     "collapsed": false,
     "input": [],
     "language": "python",
     "metadata": {},
     "outputs": []
    }
   ],
   "metadata": {}
  }
 ]
}