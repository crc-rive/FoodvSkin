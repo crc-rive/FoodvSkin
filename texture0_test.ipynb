{
 "metadata": {
  "name": "",
  "signature": "sha256:0e5a747457232b86f076f71de89ba95ee2bc688318424edd19d8c02f60c56248"
 },
 "nbformat": 3,
 "nbformat_minor": 0,
 "worksheets": [
  {
   "cells": [
    {
     "cell_type": "code",
     "collapsed": false,
     "input": [
      "import numpy as np\n",
      "from PIL import Image\n",
      "from pylab import *\n",
      "import matplotlib.pylab as plt\n",
      "from scipy.ndimage.filters import uniform_filter\n"
     ],
     "language": "python",
     "metadata": {},
     "outputs": [],
     "prompt_number": 27
    },
    {
     "cell_type": "code",
     "collapsed": false,
     "input": [
      "def stdev_filter(arr, radius):\n",
      "    \"\"\" Local standard deviation filter   \"\"\"\n",
      "    c1 = uniform_filter(arr, radius*2, mode='constant', origin=-radius)\n",
      "    c2 = uniform_filter(arr*arr, radius*2, mode='constant', origin=-radius)\n",
      "    return ((c2 - c1*c1)**.5)[:-radius*2+1,:-radius*2+1]\n"
     ],
     "language": "python",
     "metadata": {},
     "outputs": [],
     "prompt_number": 28
    },
    {
     "cell_type": "code",
     "collapsed": false,
     "input": [
      "obj=Image.open('test.jpg').convert('L')\n",
      "img=np.array(obj)\n",
      "\n",
      "texture1_img= stdev_filter(img, 3)\n",
      "imshow(texture1_img)\n"
     ],
     "language": "python",
     "metadata": {},
     "outputs": [
      {
       "metadata": {},
       "output_type": "pyout",
       "prompt_number": 29,
       "text": [
        "<matplotlib.image.AxesImage at 0xa9efcc0>"
       ]
      }
     ],
     "prompt_number": 29
    },
    {
     "cell_type": "code",
     "collapsed": false,
     "input": [
      "\n"
     ],
     "language": "python",
     "metadata": {},
     "outputs": [],
     "prompt_number": 26
    },
    {
     "cell_type": "code",
     "collapsed": false,
     "input": [
      "\n"
     ],
     "language": "python",
     "metadata": {},
     "outputs": [],
     "prompt_number": 26
    },
    {
     "cell_type": "code",
     "collapsed": false,
     "input": [],
     "language": "python",
     "metadata": {},
     "outputs": []
    }
   ],
   "metadata": {}
  }
 ]
}