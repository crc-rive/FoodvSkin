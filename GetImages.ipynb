{
 "metadata": {
  "name": "",
  "signature": "sha256:1e6ff935e02d6d804cf76c45e2e3572f042ecd223aa26aad6217e544bf9c64f3"
 },
 "nbformat": 3,
 "nbformat_minor": 0,
 "worksheets": [
  {
   "cells": [
    {
     "cell_type": "code",
     "collapsed": false,
     "input": [
      "from instagram.client import InstagramAPI\n",
      "import time"
     ],
     "language": "python",
     "metadata": {},
     "outputs": [],
     "prompt_number": 1
    },
    {
     "cell_type": "code",
     "collapsed": false,
     "input": [
      "api = InstagramAPI(client_id='025b0c0ee7e04326a636966917e9cc29', client_secret='5d953e7d07534c48be7fab4e86bc8b3d' )"
     ],
     "language": "python",
     "metadata": {},
     "outputs": [],
     "prompt_number": 2
    },
    {
     "cell_type": "code",
     "collapsed": false,
     "input": [
      "api.location_search(foursquare_v2_id='3fd66200f964a52018ed1ee3')"
     ],
     "language": "python",
     "metadata": {},
     "outputs": [
      {
       "metadata": {},
       "output_type": "pyout",
       "prompt_number": 3,
       "text": [
        "[Location: 797 (Point: (37.796141979, -122.393799209))]"
       ]
      }
     ],
     "prompt_number": 3
    },
    {
     "cell_type": "code",
     "collapsed": false,
     "input": [
      "mm, next = api.location_recent_media(location_id=797)"
     ],
     "language": "python",
     "metadata": {},
     "outputs": [],
     "prompt_number": 4
    },
    {
     "cell_type": "code",
     "collapsed": false,
     "input": [
      "mm"
     ],
     "language": "python",
     "metadata": {},
     "outputs": [
      {
       "metadata": {},
       "output_type": "pyout",
       "prompt_number": 5,
       "text": [
        "[Media: 768444116641415107_8712462,\n",
        " Media: 768288470165075359_18393564,\n",
        " Media: 768226223993173831_13844140,\n",
        " Media: 768196138342353909_18528649,\n",
        " Media: 768162287138128079_367078599,\n",
        " Media: 768159156079793887_1431931636,\n",
        " Media: 767860873431344208_936999856,\n",
        " Media: 767787572075747009_353520564,\n",
        " Media: 767780139025641125_196923658]"
       ]
      }
     ],
     "prompt_number": 5
    },
    {
     "cell_type": "code",
     "collapsed": false,
     "input": [
      "for media in mm:\n",
      "    print media.images['standard_resolution']"
     ],
     "language": "python",
     "metadata": {},
     "outputs": [
      {
       "output_type": "stream",
       "stream": "stdout",
       "text": [
        "Image: http://scontent-a.cdninstagram.com/hphotos-xpa1/t51.2885-15/10518097_596400347142278_272550832_n.jpg\n",
        "Image: http://scontent-b.cdninstagram.com/hphotos-xpa1/t51.2885-15/10546844_602152033231540_1150243997_n.jpg\n",
        "Image: http://scontent-b.cdninstagram.com/hphotos-xap1/t51.2885-15/10554075_263876730480553_1098741849_n.jpg\n",
        "Image: http://scontent-a.cdninstagram.com/hphotos-xpf1/t51.2885-15/10554257_606331436154034_547776898_n.jpg\n",
        "Image: http://scontent-b.cdninstagram.com/hphotos-xfp1/t51.2885-15/10554271_768855683135533_1342738656_n.jpg\n",
        "Image: http://scontent-b.cdninstagram.com/hphotos-xpa1/t51.2885-15/927376_1450326925242368_145131903_n.jpg\n",
        "Image: http://scontent-b.cdninstagram.com/hphotos-xpf1/t51.2885-15/10549811_763493813701830_649650611_n.jpg\n",
        "Image: http://scontent-b.cdninstagram.com/hphotos-xpf1/t51.2885-15/10513973_1526026170953671_398910656_n.jpg\n",
        "Image: http://scontent-a.cdninstagram.com/hphotos-xpa1/t51.2885-15/10537934_241725539370878_109995798_n.jpg\n"
       ]
      }
     ],
     "prompt_number": 7
    },
    {
     "cell_type": "code",
     "collapsed": false,
     "input": [
      "next"
     ],
     "language": "python",
     "metadata": {},
     "outputs": [
      {
       "metadata": {},
       "output_type": "pyout",
       "prompt_number": 8,
       "text": [
        "'https://api.instagram.com/v1/locations/797/media/recent?max_id=767780139025641125&client_id=025b0c0ee7e04326a636966917e9cc29'"
       ]
      }
     ],
     "prompt_number": 8
    },
    {
     "cell_type": "code",
     "collapsed": false,
     "input": [
      "mm, next = api.location_recent_media(location_id=797,max_id=767780139025641125)"
     ],
     "language": "python",
     "metadata": {},
     "outputs": [],
     "prompt_number": 9
    },
    {
     "cell_type": "code",
     "collapsed": false,
     "input": [
      "mm"
     ],
     "language": "python",
     "metadata": {},
     "outputs": []
    },
    {
     "cell_type": "code",
     "collapsed": false,
     "input": [],
     "language": "python",
     "metadata": {},
     "outputs": []
    }
   ],
   "metadata": {}
  }
 ]
}