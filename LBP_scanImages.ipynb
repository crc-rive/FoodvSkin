{
 "metadata": {
  "name": "",
  "signature": "sha256:b66b290a0f58df5955c4a98d8167a4e696265fd424cc12b92d083ea2a22c2b99"
 },
 "nbformat": 3,
 "nbformat_minor": 0,
 "worksheets": [
  {
   "cells": [
    {
     "cell_type": "code",
     "collapsed": false,
     "input": [
      "# LBP Face Detection Main Program"
     ],
     "language": "python",
     "metadata": {},
     "outputs": [],
     "prompt_number": 53
    },
    {
     "cell_type": "code",
     "collapsed": false,
     "input": [
      "# DO Get urls, get image, detect face, write file)"
     ],
     "language": "python",
     "metadata": {},
     "outputs": [],
     "prompt_number": 54
    },
    {
     "cell_type": "code",
     "collapsed": false,
     "input": [
      "\n",
      "from matplotlib import pyplot as plt\n",
      "from matplotlib import image as mpimg\n",
      "from scipy import sqrt, pi, arctan2, cos, sin, ndimage, fftpack, stats\n",
      "from skimage import exposure, measure, feature\n",
      "import pandas as pd\n",
      "from PIL import Image\n",
      "import cStringIO\n",
      "import urllib2\n",
      "import numpy as np\n",
      "from pylab import *\n",
      "\n",
      "import cv2\n",
      "#print cv2.__version__"
     ],
     "language": "python",
     "metadata": {},
     "outputs": [],
     "prompt_number": 1
    },
    {
     "cell_type": "code",
     "collapsed": false,
     "input": [
      "# Linear Binary Pattern Detector\n",
      "\n",
      "def lbp_detector(img):\n",
      "    \n",
      "    faceDetector=cv2.CascadeClassifier('C:/temp_lbp/lbpcascade_frontalface.xml')\n",
      "    img_gray=cv2.cvtColor(img,cv2.COLOR_BGR2GRAY)\n",
      "    img_gray_eq=cv2.equalizeHist(img_gray)\n",
      "    faces=faceDetector.detectMultiScale(img_gray,1.1,3)\n",
      "    return faces\n",
      "\n"
     ],
     "language": "python",
     "metadata": {},
     "outputs": [],
     "prompt_number": 6
    },
    {
     "cell_type": "code",
     "collapsed": false,
     "input": [
      "# get urls\n",
      "urls=np.loadtxt('C:/temp_lbp/NewTraining_Faces_everyones.txt',dtype=\"str\")\n",
      "nrow=len(urls)\n",
      "#print nrow"
     ],
     "language": "python",
     "metadata": {},
     "outputs": [],
     "prompt_number": 7
    },
    {
     "cell_type": "code",
     "collapsed": false,
     "input": [
      "i = 0\n",
      "counter=0\n",
      "str1=\"C:/temp_lbp/output\"\n",
      "for url in urls:\n",
      "    i=i+1\n",
      "#print url\n",
      "    if i == 2:\n",
      "        break\n",
      "    try:\n",
      "        read=urllib2.urlopen(url)\n",
      "    except urllib2.URLError:\n",
      "        continue\n",
      "    arr=np.asarray(bytearray(read.read()), dtype=np.uint8)\n",
      "    img=cv2.imdecode(arr,-1)   # load it as it is               \n",
      "#   cv2.imshow('image',img)\n",
      "#   cv2.waitKey()\n",
      "    faces = lbp_detector(img)\n",
      "    for (x,y,w,h) in faces:\n",
      "        img_face = cv2.rectangle(img,(x,y),(x+w,y+h),(255,0,0),2)\n",
      "#    cv2.imshow('image + face detected',img_face)\n",
      "#    cv2.waitKey()\n",
      "    filename=str1+str(i+1)+\".jpg\"\n",
      "    cv2.imwrite(filename',img_face)\n",
      "    \n",
      "\n"
     ],
     "language": "python",
     "metadata": {},
     "outputs": [],
     "prompt_number": 12
    },
    {
     "cell_type": "code",
     "collapsed": false,
     "input": [],
     "language": "python",
     "metadata": {},
     "outputs": []
    },
    {
     "cell_type": "code",
     "collapsed": false,
     "input": [],
     "language": "python",
     "metadata": {},
     "outputs": [],
     "prompt_number": 14
    },
    {
     "cell_type": "code",
     "collapsed": false,
     "input": [],
     "language": "python",
     "metadata": {},
     "outputs": [],
     "prompt_number": 15
    },
    {
     "cell_type": "code",
     "collapsed": false,
     "input": [],
     "language": "python",
     "metadata": {},
     "outputs": []
    },
    {
     "cell_type": "code",
     "collapsed": false,
     "input": [],
     "language": "python",
     "metadata": {},
     "outputs": []
    }
   ],
   "metadata": {}
  }
 ]
}