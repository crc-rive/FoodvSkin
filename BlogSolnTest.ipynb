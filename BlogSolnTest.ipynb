{
 "metadata": {
  "name": "",
  "signature": "sha256:18d34dfb52b88013432e955c6ceabded344e3eb167b5a77c25026eb901ada1be"
 },
 "nbformat": 3,
 "nbformat_minor": 0,
 "worksheets": [
  {
   "cells": [
    {
     "cell_type": "code",
     "collapsed": false,
     "input": [
      "'''Dr. Das' code for the Gomez & Morales (2002) solution\n",
      "see: http://datamusing.info/blog/2014/07/06/detecting-people-in-photographs-using-skin-tone/\n",
      "'''\n",
      "import pylab\n",
      "import matplotlib.image as mpimg\n",
      "# read in the image\n",
      "#values = mpimg.imread(\"images/blog_img2.png\")\n",
      "values = mpimg.imread(\"test.jpg\")\n",
      "# separate out r, g, b channels\n",
      "r = values[:,:,0].astype('f')\n",
      "g = values[:,:,1].astype('f')\n",
      "b = values[:,:,2].astype('f')\n",
      "# generate the three quantities \n",
      "alpha = 3*b*r**2/(r+b+g+1e-5)**3\n",
      "beta =  (r+g+b)/(3*r+1e-5) + (r-g)/(r+g+b+1e-5)\n",
      "gamma = (r*b+g**2)/(g*b+1e-5)\n",
      "# finally we apply the rules:\n",
      "pylab.imshow((alpha>0.1276)&(beta<=0.9498)&(gamma<=2.7775),cmap='gray')\n",
      "pylab.show()"
     ],
     "language": "python",
     "metadata": {},
     "outputs": []
    }
   ],
   "metadata": {}
  }
 ]
}